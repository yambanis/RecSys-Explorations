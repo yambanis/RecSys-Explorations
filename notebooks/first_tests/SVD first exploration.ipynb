{
 "cells": [
  {
   "cell_type": "code",
   "execution_count": 1,
   "id": "894e3e95",
   "metadata": {
    "ExecuteTime": {
     "end_time": "2022-08-20T17:41:52.598991Z",
     "start_time": "2022-08-20T17:41:52.188879Z"
    }
   },
   "outputs": [],
   "source": [
    "import pandas as pd\n",
    "import numpy as np"
   ]
  },
  {
   "cell_type": "code",
   "execution_count": 2,
   "id": "a457a78d",
   "metadata": {
    "ExecuteTime": {
     "end_time": "2022-08-20T17:41:52.637812Z",
     "start_time": "2022-08-20T17:41:52.601152Z"
    }
   },
   "outputs": [],
   "source": [
    "df_train = pd.read_csv(\"../../data/ml-100k/ub.base\", sep=\"\\t\", \n",
    "                 header=None, names=['user id', 'item id', 'rating', 'timestamp'])\n",
    "df_test = pd.read_csv(\"../../data/ml-100k/ub.test\", sep=\"\\t\", \n",
    "                 header=None, names=['user id', 'item id', 'rating', 'timestamp'])"
   ]
  },
  {
   "cell_type": "code",
   "execution_count": 3,
   "id": "219f594b",
   "metadata": {
    "ExecuteTime": {
     "end_time": "2022-08-20T17:41:52.651601Z",
     "start_time": "2022-08-20T17:41:52.641388Z"
    }
   },
   "outputs": [
    {
     "data": {
      "text/plain": [
       "((90570, 4), (9430, 4))"
      ]
     },
     "execution_count": 3,
     "metadata": {},
     "output_type": "execute_result"
    }
   ],
   "source": [
    "df_train.shape, df_test.shape"
   ]
  },
  {
   "cell_type": "code",
   "execution_count": 4,
   "id": "337162a9",
   "metadata": {
    "ExecuteTime": {
     "end_time": "2022-08-20T17:41:52.687532Z",
     "start_time": "2022-08-20T17:41:52.653744Z"
    }
   },
   "outputs": [],
   "source": [
    "og_matrix = (\n",
    "    pd.pivot(data=df_train, index='user id', columns='item id', values='rating')\n",
    ")"
   ]
  },
  {
   "cell_type": "code",
   "execution_count": 5,
   "id": "00254145",
   "metadata": {
    "ExecuteTime": {
     "end_time": "2022-08-20T17:41:53.502225Z",
     "start_time": "2022-08-20T17:41:52.689832Z"
    }
   },
   "outputs": [],
   "source": [
    "test_matrix = (\n",
    "    pd.pivot(data=df_test, index='user id', columns='item id', values='rating')\n",
    ")\n",
    "not_present = [i for i in df_train['item id'].unique() if i not in df_test['item id'].unique()]\n",
    "not_present_og = [i for i in df_test['item id'].unique() if i not in df_train['item id'].unique()]\n",
    "\n",
    "test_matrix = pd.concat([\n",
    "    test_matrix,\n",
    "    pd.DataFrame(index=test_matrix.index, columns=not_present)],\n",
    "    axis=1\n",
    ")\n",
    "\n",
    "for c in not_present_og:\n",
    "    test_matrix = test_matrix.drop(c, axis=1).copy()\n",
    "    \n",
    "test_matrix = test_matrix.reindex(sorted(test_matrix.columns), axis=1).copy()"
   ]
  },
  {
   "cell_type": "code",
   "execution_count": 6,
   "id": "b1c57098",
   "metadata": {
    "ExecuteTime": {
     "end_time": "2022-08-20T17:41:54.050645Z",
     "start_time": "2022-08-20T17:41:53.504433Z"
    }
   },
   "outputs": [],
   "source": [
    "item_mean = og_matrix.mean(axis=0)\n",
    "matrix = (og_matrix - item_mean).fillna(0)\n",
    "U, s, V = np.linalg.svd(matrix, full_matrices=True)"
   ]
  },
  {
   "cell_type": "code",
   "execution_count": 7,
   "id": "9f8a53a0",
   "metadata": {
    "ExecuteTime": {
     "end_time": "2022-08-20T17:41:54.056079Z",
     "start_time": "2022-08-20T17:41:54.053205Z"
    }
   },
   "outputs": [],
   "source": [
    "k=10"
   ]
  },
  {
   "cell_type": "code",
   "execution_count": 8,
   "id": "3bb81e5d",
   "metadata": {
    "ExecuteTime": {
     "end_time": "2022-08-20T17:41:54.064940Z",
     "start_time": "2022-08-20T17:41:54.058511Z"
    }
   },
   "outputs": [],
   "source": [
    "def get_results(U, s, V, k):\n",
    "    print(k)\n",
    "\n",
    "    s=np.diag(s)\n",
    "    # we take only the k most significant features\n",
    "    s=s[0:k,0:k]\n",
    "    U=U[:,0:k]\n",
    "    V=V[0:k,:]\n",
    "    s_root=np.sqrt(s)\n",
    "    Usk=np.dot(U,s_root)\n",
    "    skV=np.dot(s_root,V)\n",
    "    UsV = np.dot(Usk, skV)\n",
    "    print(UsV.shape)\n",
    "\n",
    "    x = np.tile(item_mean, (matrix.shape[0],1))\n",
    "    UsV = UsV + x\n",
    "        \n",
    "    squared_errors = [x for x in map(lambda x: np.power(x, 2), (og_matrix - UsV).values.flatten())\n",
    "                      if pd.notna(x)]\n",
    "    rmse = np.sqrt(np.sum(squared_errors) / len(squared_errors))\n",
    "    print(\"Train RMSE\", rmse)\n",
    "    \n",
    "    \n",
    "    squared_errors = [x for x in map(lambda x: np.power(x, 2), (test_matrix - UsV).values.flatten())\n",
    "                  if pd.notna(x)]\n",
    "    rmse = np.sqrt(np.sum(squared_errors) / len(squared_errors))\n",
    "    print(\"Test RMSE\", rmse)\n",
    "    \n",
    "    print(50*'=')"
   ]
  },
  {
   "cell_type": "code",
   "execution_count": 9,
   "id": "5c04dbf1",
   "metadata": {
    "ExecuteTime": {
     "end_time": "2022-08-20T17:42:22.502404Z",
     "start_time": "2022-08-20T17:41:54.072022Z"
    },
    "scrolled": false
   },
   "outputs": [
    {
     "name": "stdout",
     "output_type": "stream",
     "text": [
      "8\n",
      "(943, 1675)\n",
      "Train RMSE 0.8861326668620242\n",
      "Test RMSE 1.015653883191067\n",
      "==================================================\n",
      "10\n",
      "(943, 1675)\n",
      "Train RMSE 0.8732436486681692\n",
      "Test RMSE 1.0143116763796434\n",
      "==================================================\n",
      "12\n",
      "(943, 1675)\n",
      "Train RMSE 0.8618170543911519\n",
      "Test RMSE 1.0125982413804526\n",
      "==================================================\n",
      "14\n",
      "(943, 1675)\n",
      "Train RMSE 0.8505886395341836\n",
      "Test RMSE 1.0125974809841913\n",
      "==================================================\n",
      "17\n",
      "(943, 1675)\n",
      "Train RMSE 0.8342582700722256\n",
      "Test RMSE 1.0122006147967102\n",
      "==================================================\n"
     ]
    }
   ],
   "source": [
    "for k in [8,10,12,14,17]:\n",
    "    get_results(U, s, V, k)"
   ]
  }
 ],
 "metadata": {
  "kernelspec": {
   "display_name": "Python 3.9.13 ('myenv')",
   "language": "python",
   "name": "python3"
  },
  "language_info": {
   "codemirror_mode": {
    "name": "ipython",
    "version": 3
   },
   "file_extension": ".py",
   "mimetype": "text/x-python",
   "name": "python",
   "nbconvert_exporter": "python",
   "pygments_lexer": "ipython3",
   "version": "3.9.13"
  },
  "toc": {
   "base_numbering": 1,
   "nav_menu": {},
   "number_sections": true,
   "sideBar": true,
   "skip_h1_title": false,
   "title_cell": "Table of Contents",
   "title_sidebar": "Contents",
   "toc_cell": false,
   "toc_position": {},
   "toc_section_display": true,
   "toc_window_display": false
  },
  "varInspector": {
   "cols": {
    "lenName": 16,
    "lenType": 16,
    "lenVar": 40
   },
   "kernels_config": {
    "python": {
     "delete_cmd_postfix": "",
     "delete_cmd_prefix": "del ",
     "library": "var_list.py",
     "varRefreshCmd": "print(var_dic_list())"
    },
    "r": {
     "delete_cmd_postfix": ") ",
     "delete_cmd_prefix": "rm(",
     "library": "var_list.r",
     "varRefreshCmd": "cat(var_dic_list()) "
    }
   },
   "types_to_exclude": [
    "module",
    "function",
    "builtin_function_or_method",
    "instance",
    "_Feature"
   ],
   "window_display": false
  },
  "vscode": {
   "interpreter": {
    "hash": "42f1d4e423c80e78df698f1083de7c5b2542fad57b9e4a239ef9708b2fc1994b"
   }
  }
 },
 "nbformat": 4,
 "nbformat_minor": 5
}

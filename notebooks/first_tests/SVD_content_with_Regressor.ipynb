{
 "cells": [
  {
   "cell_type": "code",
   "execution_count": 73,
   "metadata": {},
   "outputs": [],
   "source": [
    "import numpy as np\n",
    "import pandas as pd\n",
    "\n",
    "from sklearn.decomposition import TruncatedSVD\n",
    "from sklearn.metrics import mean_squared_error\n",
    "from lightgbm import LGBMRegressor\n",
    "\n",
    "import seaborn as sns"
   ]
  },
  {
   "cell_type": "code",
   "execution_count": 74,
   "metadata": {},
   "outputs": [],
   "source": [
    "df_train = pd.read_csv(\"../../data/ml-100k/ub.base\", sep=\"\\t\", \n",
    "                 header=None, names=['user id', 'item id', 'rating', 'timestamp'])\n",
    "df_test = pd.read_csv(\"../../data/ml-100k/ub.test\", sep=\"\\t\", \n",
    "                 header=None, names=['user id', 'item id', 'rating', 'timestamp'])"
   ]
  },
  {
   "cell_type": "code",
   "execution_count": 75,
   "metadata": {},
   "outputs": [],
   "source": [
    "df_items = pd.read_csv(\"../../data/ml-100k/u.item\", sep=\"|\", \n",
    "                 header=None, encoding='latin-1',\n",
    "                 names=[\"movie id\", \"movie title\", \"release date\", \"video release date\",\n",
    "                        \"IMDb URL\", \"unknown\", \"Action\", \"Adventure\", \"Animation\",\n",
    "                        \"Children's\", \"Comedy\", \"Crime\", \"Documentary\", \"Drama\", \"Fantasy\",\n",
    "                        \"Film-Noir\", \"Horror\", \"Musical\", \"Mystery\", \"Romance\", \"Sci-Fi\",\n",
    "                        \"Thriller\", \"War\", \"Western\"])\n"
   ]
  },
  {
   "cell_type": "code",
   "execution_count": 76,
   "metadata": {},
   "outputs": [],
   "source": [
    "user_movies_train = (\n",
    "    pd.pivot(data=df_train, index='user id', columns='item id', values='rating')\n",
    ")\n",
    "\n",
    "# I subtract each user's average rating to magnify individual preferences\n",
    "# Replace NaN with 0.0, as this is now the \"neutral\" value\n",
    "\n",
    "train_matrix = user_movies_train.sub(user_movies_train.mean(axis=1), axis=0).fillna(0.0)"
   ]
  },
  {
   "cell_type": "code",
   "execution_count": 77,
   "metadata": {},
   "outputs": [],
   "source": [
    "user_movies_test = (\n",
    "    pd.pivot(data=df_test, index='user id', columns='item id', values='rating')\n",
    ")\n",
    "\n",
    "# I subtract each user's average rating to magnify individual preferences\n",
    "# Replace NaN with 0.0, as this is now the \"neutral\" value\n",
    "\n",
    "test_matrix = user_movies_test.sub(user_movies_train.mean(axis=1), axis=0).fillna(0.0)"
   ]
  },
  {
   "cell_type": "code",
   "execution_count": 78,
   "metadata": {},
   "outputs": [
    {
     "data": {
      "text/plain": [
       "0.8473552038580683"
      ]
     },
     "execution_count": 78,
     "metadata": {},
     "output_type": "execute_result"
    }
   ],
   "source": [
    "svd = TruncatedSVD(n_components=250, n_iter=100, random_state=42)\n",
    "svd.fit(train_matrix)\n",
    "svd.explained_variance_ratio_.sum()"
   ]
  },
  {
   "cell_type": "code",
   "execution_count": 79,
   "metadata": {},
   "outputs": [
    {
     "data": {
      "text/plain": [
       "((943, 250), (250, 250), (250, 1675))"
      ]
     },
     "execution_count": 79,
     "metadata": {},
     "output_type": "execute_result"
    }
   ],
   "source": [
    "U = svd.transform(train_matrix) / svd.singular_values_\n",
    "Sigma_matrix = np.diag(svd.singular_values_)\n",
    "VT = svd.components_\n",
    "\n",
    "U.shape, Sigma_matrix.shape, VT.shape"
   ]
  },
  {
   "cell_type": "code",
   "execution_count": 80,
   "metadata": {},
   "outputs": [],
   "source": [
    "user_embeddings = pd.DataFrame(U).assign(**{\"user id\" : lambda x: train_matrix.index})\n",
    "movies_embeddings = pd.DataFrame(VT.T).assign(**{\"item id\" : lambda x: train_matrix.columns})"
   ]
  },
  {
   "cell_type": "code",
   "execution_count": 81,
   "metadata": {},
   "outputs": [
    {
     "data": {
      "text/plain": [
       "((90570, 518), (90570,))"
      ]
     },
     "execution_count": 81,
     "metadata": {},
     "output_type": "execute_result"
    }
   ],
   "source": [
    "train_set = df_train.merge(user_embeddings, on=\"user id\").merge(movies_embeddings, on=\"item id\")\n",
    "X_train = (\n",
    "    train_set\n",
    "    .drop([\"user id\", \"rating\", \"timestamp\"], axis=1)\n",
    "    .rename(columns= {\"item id\": \"movie id\"})\n",
    "    .merge(df_items.drop(['movie title', 'release date', 'video release date', 'IMDb URL', 'unknown'], axis=1))\n",
    "    .drop(\"movie id\", axis=1)\n",
    ")\n",
    "y_train = train_set['rating']\n",
    "\n",
    "X_train.shape, y_train.shape"
   ]
  },
  {
   "cell_type": "code",
   "execution_count": 82,
   "metadata": {},
   "outputs": [],
   "source": [
    "regressor = LGBMRegressor(n_jobs=-1).fit(X_train, y_train)"
   ]
  },
  {
   "cell_type": "code",
   "execution_count": 83,
   "metadata": {},
   "outputs": [],
   "source": [
    "train_preds = regressor.predict(X_train)"
   ]
  },
  {
   "cell_type": "code",
   "execution_count": 84,
   "metadata": {},
   "outputs": [
    {
     "data": {
      "text/plain": [
       "(0.8104889778346184, 5.02592380976201)"
      ]
     },
     "execution_count": 84,
     "metadata": {},
     "output_type": "execute_result"
    }
   ],
   "source": [
    "train_preds.min(), train_preds.max()"
   ]
  },
  {
   "cell_type": "code",
   "execution_count": 85,
   "metadata": {},
   "outputs": [
    {
     "data": {
      "text/plain": [
       "0.7954787702827636"
      ]
     },
     "execution_count": 85,
     "metadata": {},
     "output_type": "execute_result"
    }
   ],
   "source": [
    "mean_squared_error(y_train, train_preds, squared=False)"
   ]
  },
  {
   "cell_type": "code",
   "execution_count": 86,
   "metadata": {},
   "outputs": [
    {
     "data": {
      "text/plain": [
       "((9423, 518), (9423,))"
      ]
     },
     "execution_count": 86,
     "metadata": {},
     "output_type": "execute_result"
    }
   ],
   "source": [
    "test_set = df_test.merge(user_embeddings, on=\"user id\").merge(movies_embeddings, on=\"item id\")\n",
    "X_test = (\n",
    "    test_set\n",
    "    .drop([\"user id\", \"rating\", \"timestamp\"], axis=1)\n",
    "    .rename(columns= {\"item id\": \"movie id\"})\n",
    "    .merge(df_items.drop(['movie title', 'release date', 'video release date', 'IMDb URL', 'unknown'], axis=1))\n",
    "    .drop(\"movie id\", axis=1)\n",
    ")\n",
    "\n",
    "y_test = test_set['rating']\n",
    "X_test.shape, y_test.shape"
   ]
  },
  {
   "cell_type": "code",
   "execution_count": 87,
   "metadata": {},
   "outputs": [],
   "source": [
    "test_preds = regressor.predict(X_test)"
   ]
  },
  {
   "cell_type": "code",
   "execution_count": 88,
   "metadata": {},
   "outputs": [
    {
     "data": {
      "text/plain": [
       "(1.2322675326825407, 4.833632989510372)"
      ]
     },
     "execution_count": 88,
     "metadata": {},
     "output_type": "execute_result"
    }
   ],
   "source": [
    "test_preds.min(), test_preds.max()"
   ]
  },
  {
   "cell_type": "code",
   "execution_count": 89,
   "metadata": {},
   "outputs": [
    {
     "data": {
      "text/plain": [
       "0.9870712212369216"
      ]
     },
     "execution_count": 89,
     "metadata": {},
     "output_type": "execute_result"
    }
   ],
   "source": [
    "mean_squared_error(y_test, test_preds, squared=False)"
   ]
  }
 ],
 "metadata": {
  "kernelspec": {
   "display_name": "Python 3.9.13 ('myenv')",
   "language": "python",
   "name": "python3"
  },
  "language_info": {
   "codemirror_mode": {
    "name": "ipython",
    "version": 3
   },
   "file_extension": ".py",
   "mimetype": "text/x-python",
   "name": "python",
   "nbconvert_exporter": "python",
   "pygments_lexer": "ipython3",
   "version": "3.9.13"
  },
  "orig_nbformat": 4,
  "vscode": {
   "interpreter": {
    "hash": "42f1d4e423c80e78df698f1083de7c5b2542fad57b9e4a239ef9708b2fc1994b"
   }
  }
 },
 "nbformat": 4,
 "nbformat_minor": 2
}

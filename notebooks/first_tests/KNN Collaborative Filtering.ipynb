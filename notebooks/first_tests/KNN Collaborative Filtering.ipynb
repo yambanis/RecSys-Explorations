{
 "cells": [
  {
   "cell_type": "code",
   "execution_count": 1,
   "id": "0976e2b3",
   "metadata": {
    "ExecuteTime": {
     "end_time": "2022-08-21T17:19:39.911647Z",
     "start_time": "2022-08-21T17:19:39.513873Z"
    }
   },
   "outputs": [],
   "source": [
    "import numpy as np\n",
    "import pandas as pd\n",
    "from tqdm.auto import tqdm"
   ]
  },
  {
   "cell_type": "code",
   "execution_count": 2,
   "id": "53bd90eb",
   "metadata": {
    "ExecuteTime": {
     "end_time": "2022-08-21T17:19:40.526665Z",
     "start_time": "2022-08-21T17:19:39.913689Z"
    }
   },
   "outputs": [],
   "source": [
    "from sklearn.neighbors import KNeighborsRegressor\n",
    "from scipy.spatial.distance import cosine\n",
    "from sklearn.metrics import mean_squared_error"
   ]
  },
  {
   "cell_type": "code",
   "execution_count": 3,
   "id": "f3834a6f",
   "metadata": {
    "ExecuteTime": {
     "end_time": "2022-08-21T17:19:40.562417Z",
     "start_time": "2022-08-21T17:19:40.529077Z"
    }
   },
   "outputs": [],
   "source": [
    "df_train = pd.read_csv(\"../../data/ml-100k/ub.base\", sep=\"\\t\", \n",
    "                 header=None, names=['user id', 'item id', 'rating', 'timestamp'])\n",
    "df_test = pd.read_csv(\"../../data/ml-100k/ub.test\", sep=\"\\t\", \n",
    "                 header=None, names=['user id', 'item id', 'rating', 'timestamp'])"
   ]
  },
  {
   "cell_type": "code",
   "execution_count": 4,
   "id": "31efe923",
   "metadata": {
    "ExecuteTime": {
     "end_time": "2022-08-21T17:19:40.633602Z",
     "start_time": "2022-08-21T17:19:40.564714Z"
    }
   },
   "outputs": [],
   "source": [
    "user_movies_train = (\n",
    "    pd.pivot(data=df_train, index='user id', columns='item id', values='rating')\n",
    ")\n",
    "\n",
    "# I subtract each user's average rating to magnify individual preferences\n",
    "# Replace NaN with 0.0, as this is now the \"neutral\" value\n",
    "\n",
    "train_matrix = user_movies_train.sub(user_movies_train.mean(axis=1), axis=0).fillna(0.0)"
   ]
  },
  {
   "cell_type": "code",
   "execution_count": 5,
   "id": "7fb2e0c7",
   "metadata": {
    "ExecuteTime": {
     "end_time": "2022-08-21T17:19:40.672529Z",
     "start_time": "2022-08-21T17:19:40.635864Z"
    }
   },
   "outputs": [],
   "source": [
    "user_movies_test = (\n",
    "    pd.pivot(data=df_test, index='user id', columns='item id', values='rating')\n",
    ")\n",
    "\n",
    "# I subtract each user's average rating to magnify individual preferences\n",
    "# Replace NaN with 0.0, as this is now the \"neutral\" value\n",
    "\n",
    "test_matrix = user_movies_test.sub(user_movies_test.mean(axis=1), axis=0).fillna(0.0)"
   ]
  },
  {
   "cell_type": "code",
   "execution_count": 22,
   "id": "24e0e081",
   "metadata": {
    "ExecuteTime": {
     "end_time": "2022-08-21T17:22:05.916601Z",
     "start_time": "2022-08-21T17:21:50.516681Z"
    }
   },
   "outputs": [
    {
     "data": {
      "application/vnd.jupyter.widget-view+json": {
       "model_id": "703acad5dba64d7ebc2653f5cc42ab8e",
       "version_major": 2,
       "version_minor": 0
      },
      "text/plain": [
       "  0%|          | 0/1675 [00:00<?, ?it/s]"
      ]
     },
     "metadata": {},
     "output_type": "display_data"
    }
   ],
   "source": [
    "item_models = {}\n",
    "\n",
    "for item in tqdm(df_train['item id'].unique()):\n",
    "    ids_ratings = df_train[df_train['item id'] == item][['user id', 'rating']]\n",
    "    X = train_matrix.loc[ids_ratings['user id'], :]\n",
    "    y = ids_ratings['rating']\n",
    "    \n",
    "    if y.shape[0] >= 5:\n",
    "        model = KNeighborsRegressor(n_neighbors=min(30, y.shape[0]),\n",
    "                                    weights='distance', metric=cosine, n_jobs=-1)\n",
    "        fitted_model = model.fit(X, y)\n",
    "\n",
    "        item_models[item] = fitted_model"
   ]
  },
  {
   "cell_type": "code",
   "execution_count": 23,
   "id": "28866127",
   "metadata": {
    "ExecuteTime": {
     "end_time": "2022-08-21T17:22:07.643044Z",
     "start_time": "2022-08-21T17:22:07.638515Z"
    }
   },
   "outputs": [
    {
     "data": {
      "text/plain": [
       "3.5236612564866956"
      ]
     },
     "execution_count": 23,
     "metadata": {},
     "output_type": "execute_result"
    }
   ],
   "source": [
    "average_rating = df_train['rating'].mean()\n",
    "average_rating"
   ]
  },
  {
   "cell_type": "code",
   "execution_count": 28,
   "id": "4746787e",
   "metadata": {
    "ExecuteTime": {
     "end_time": "2022-08-21T17:24:02.606006Z",
     "start_time": "2022-08-21T17:22:42.098456Z"
    }
   },
   "outputs": [
    {
     "data": {
      "application/vnd.jupyter.widget-view+json": {
       "model_id": "9e35f0231495424491f8437e1ab4b390",
       "version_major": 2,
       "version_minor": 0
      },
      "text/plain": [
       "  0%|          | 0/1145 [00:00<?, ?it/s]"
      ]
     },
     "metadata": {},
     "output_type": "display_data"
    }
   ],
   "source": [
    "item_ratings_predictions = []\n",
    "\n",
    "for item in tqdm(df_test['item id'].unique()):    \n",
    "    ratings_movie = user_movies_test[item][user_movies_test[item].notna()]\n",
    "    \n",
    "    model = item_models.get(item, None)\n",
    "    if model is None:\n",
    "        predictions = [average_rating * len(ratings_movie.index)]\n",
    "    else:\n",
    "        predictions = model.predict(train_matrix.loc[ratings_movie.index, :])\n",
    "    \n",
    "    item_ratings_predictions += [list(zip(ratings_movie, predictions))]"
   ]
  },
  {
   "cell_type": "code",
   "execution_count": 93,
   "id": "63e9b7f8",
   "metadata": {
    "ExecuteTime": {
     "end_time": "2022-08-22T13:05:33.974390Z",
     "start_time": "2022-08-22T13:05:33.956404Z"
    }
   },
   "outputs": [
    {
     "data": {
      "text/plain": [
       "1.0336275283845844"
      ]
     },
     "execution_count": 93,
     "metadata": {},
     "output_type": "execute_result"
    }
   ],
   "source": [
    "rts_preds = np.array([(k,v) for lst in item_ratings_predictions for k,v in lst])\n",
    "results = pd.DataFrame(rts_preds, columns=['rating', 'preds'])\n",
    "results['preds'] = results['preds'].clip(upper=5)\n",
    "mean_squared_error(results['rating'], results['preds'], squared=False)"
   ]
  },
  {
   "cell_type": "markdown",
   "id": "1d14991f",
   "metadata": {},
   "source": [
    "## Node 2 Vec similarity"
   ]
  },
  {
   "cell_type": "code",
   "execution_count": 39,
   "id": "8abf6adf",
   "metadata": {
    "ExecuteTime": {
     "end_time": "2022-08-21T17:26:15.089984Z",
     "start_time": "2022-08-21T17:26:10.104454Z"
    }
   },
   "outputs": [],
   "source": [
    "import networkx as nx\n",
    "from node2vec import Node2Vec"
   ]
  },
  {
   "cell_type": "code",
   "execution_count": 70,
   "id": "df90c784",
   "metadata": {
    "ExecuteTime": {
     "end_time": "2022-08-21T17:53:11.512331Z",
     "start_time": "2022-08-21T17:53:11.504459Z"
    }
   },
   "outputs": [],
   "source": [
    "df_train['source'] = df_train['user id']\n",
    "df_train['target'] = df_train['item id'] + df_train['user id'].max()\n",
    "\n",
    "assert (\n",
    "    df_train['source'].isin(df_train['target']).sum() ==\n",
    "    df_train['target'].isin(df_train['source']).sum() == \n",
    "    0\n",
    ")"
   ]
  },
  {
   "cell_type": "code",
   "execution_count": 71,
   "id": "6bf69625",
   "metadata": {
    "ExecuteTime": {
     "end_time": "2022-08-21T17:53:13.421454Z",
     "start_time": "2022-08-21T17:53:13.244383Z"
    }
   },
   "outputs": [],
   "source": [
    "G = nx.from_pandas_edgelist(df_train, source='source', target='target', edge_attr='rating')"
   ]
  },
  {
   "cell_type": "code",
   "execution_count": 97,
   "id": "e0730e44",
   "metadata": {
    "ExecuteTime": {
     "end_time": "2022-08-22T21:30:48.102044Z",
     "start_time": "2022-08-22T21:28:45.493619Z"
    }
   },
   "outputs": [
    {
     "data": {
      "application/vnd.jupyter.widget-view+json": {
       "model_id": "d7525e1dfddb4c138259fd9a02ea007d",
       "version_major": 2,
       "version_minor": 0
      },
      "text/plain": [
       "Computing transition probabilities:   0%|          | 0/2618 [00:00<?, ?it/s]"
      ]
     },
     "metadata": {},
     "output_type": "display_data"
    },
    {
     "name": "stderr",
     "output_type": "stream",
     "text": [
      "Generating walks (CPU: 1): 100%|██████████| 2/2 [00:07<00:00,  3.82s/it]\n",
      "Generating walks (CPU: 2): 100%|██████████| 2/2 [00:07<00:00,  3.85s/it]\n",
      "Generating walks (CPU: 3): 100%|██████████| 1/1 [00:03<00:00,  3.91s/it]\n",
      "Generating walks (CPU: 4): 100%|██████████| 1/1 [00:03<00:00,  3.75s/it]\n",
      "Generating walks (CPU: 5): 100%|██████████| 1/1 [00:03<00:00,  3.76s/it]\n",
      "Generating walks (CPU: 6): 100%|██████████| 1/1 [00:03<00:00,  3.80s/it]\n",
      "Generating walks (CPU: 7): 100%|██████████| 1/1 [00:03<00:00,  3.72s/it]\n",
      "Generating walks (CPU: 8): 100%|██████████| 1/1 [00:03<00:00,  3.31s/it]\n"
     ]
    }
   ],
   "source": [
    "node2vec = Node2Vec(\n",
    "    G,\n",
    "    weight_key='rating',\n",
    "    workers=8\n",
    ")"
   ]
  },
  {
   "cell_type": "code",
   "execution_count": 99,
   "id": "c3080c62",
   "metadata": {
    "ExecuteTime": {
     "end_time": "2022-08-22T21:32:14.159722Z",
     "start_time": "2022-08-22T21:31:55.750860Z"
    }
   },
   "outputs": [],
   "source": [
    "# Embed nodes\n",
    "model = node2vec.fit(window=10, min_count=1, batch_words=4)  # Any keywords acceptable by gensim.Word2Vec can be passed, `dimensions` and `workers` are automatically passed (from the Node2Vec constructor)"
   ]
  },
  {
   "cell_type": "code",
   "execution_count": 100,
   "id": "c2ee9d5c",
   "metadata": {
    "ExecuteTime": {
     "end_time": "2022-08-22T21:32:21.131262Z",
     "start_time": "2022-08-22T21:32:21.126290Z"
    }
   },
   "outputs": [],
   "source": [
    "embeds = model.wv.get_normed_vectors()"
   ]
  },
  {
   "cell_type": "code",
   "execution_count": 101,
   "id": "963442cc",
   "metadata": {
    "ExecuteTime": {
     "end_time": "2022-08-22T21:32:27.948562Z",
     "start_time": "2022-08-22T21:32:27.940462Z"
    }
   },
   "outputs": [
    {
     "data": {
      "text/plain": [
       "2618"
      ]
     },
     "execution_count": 101,
     "metadata": {},
     "output_type": "execute_result"
    }
   ],
   "source": [
    "df_train['source'].nunique() + df_train['target'].nunique()"
   ]
  },
  {
   "cell_type": "code",
   "execution_count": 102,
   "id": "0f8a0662",
   "metadata": {
    "ExecuteTime": {
     "end_time": "2022-08-22T21:32:34.838445Z",
     "start_time": "2022-08-22T21:32:34.833978Z"
    }
   },
   "outputs": [
    {
     "data": {
      "text/plain": [
       "2618"
      ]
     },
     "execution_count": 102,
     "metadata": {},
     "output_type": "execute_result"
    }
   ],
   "source": [
    "len(embeds)"
   ]
  },
  {
   "cell_type": "code",
   "execution_count": 103,
   "id": "8dd55e45",
   "metadata": {
    "ExecuteTime": {
     "end_time": "2022-08-22T21:32:41.623534Z",
     "start_time": "2022-08-22T21:32:41.619467Z"
    }
   },
   "outputs": [],
   "source": [
    "user_user_embeds = pd.DataFrame(embeds[:943], index=range(1, 944))"
   ]
  },
  {
   "cell_type": "code",
   "execution_count": 104,
   "id": "daf0edda",
   "metadata": {
    "ExecuteTime": {
     "end_time": "2022-08-22T21:32:48.325963Z",
     "start_time": "2022-08-22T21:32:48.321444Z"
    }
   },
   "outputs": [
    {
     "data": {
      "text/plain": [
       "(943, 128)"
      ]
     },
     "execution_count": 104,
     "metadata": {},
     "output_type": "execute_result"
    }
   ],
   "source": [
    "user_user_embeds.shape"
   ]
  },
  {
   "cell_type": "code",
   "execution_count": 105,
   "id": "c850e86c",
   "metadata": {
    "ExecuteTime": {
     "end_time": "2022-08-22T21:32:58.298309Z",
     "start_time": "2022-08-22T21:32:54.976127Z"
    }
   },
   "outputs": [
    {
     "data": {
      "application/vnd.jupyter.widget-view+json": {
       "model_id": "06a6e13c491e4e51ba97c12aa6ef0f87",
       "version_major": 2,
       "version_minor": 0
      },
      "text/plain": [
       "  0%|          | 0/1675 [00:00<?, ?it/s]"
      ]
     },
     "metadata": {},
     "output_type": "display_data"
    }
   ],
   "source": [
    "item_models_node2vec = {}\n",
    "\n",
    "for item in tqdm(df_train['item id'].unique()):\n",
    "    ids_ratings = df_train[df_train['item id'] == item][['user id', 'rating']]\n",
    "    X = user_user_embeds.loc[ids_ratings['user id'], :]\n",
    "    y = ids_ratings['rating']\n",
    "    \n",
    "    if y.shape[0] >= 5:\n",
    "        model = KNeighborsRegressor(n_neighbors=min(30, y.shape[0]),\n",
    "                                    weights='distance', metric=cosine, n_jobs=-1)\n",
    "        fitted_model = model.fit(X, y)\n",
    "\n",
    "        item_models_node2vec[item] = fitted_model"
   ]
  },
  {
   "cell_type": "code",
   "execution_count": 106,
   "id": "aad4f064",
   "metadata": {
    "ExecuteTime": {
     "end_time": "2022-08-22T21:34:03.770361Z",
     "start_time": "2022-08-22T21:33:05.049133Z"
    }
   },
   "outputs": [
    {
     "data": {
      "application/vnd.jupyter.widget-view+json": {
       "model_id": "32ff360191f14ae685dcd883d5d41428",
       "version_major": 2,
       "version_minor": 0
      },
      "text/plain": [
       "  0%|          | 0/1145 [00:00<?, ?it/s]"
      ]
     },
     "metadata": {},
     "output_type": "display_data"
    }
   ],
   "source": [
    "item_ratings_predictions_node2vec = []\n",
    "\n",
    "for item in tqdm(df_test['item id'].unique()):    \n",
    "    ratings_movie = user_movies_test[item][user_movies_test[item].notna()]\n",
    "    \n",
    "    model = item_models_node2vec.get(item, None)\n",
    "    if model is None:\n",
    "        predictions = [average_rating * len(ratings_movie.index)]\n",
    "    else:\n",
    "        predictions = model.predict(user_user_embeds.loc[ratings_movie.index, :])\n",
    "    \n",
    "    item_ratings_predictions_node2vec += [list(zip(ratings_movie, predictions))]"
   ]
  },
  {
   "cell_type": "code",
   "execution_count": 107,
   "id": "14c25357",
   "metadata": {
    "ExecuteTime": {
     "end_time": "2022-08-22T21:34:10.837657Z",
     "start_time": "2022-08-22T21:34:10.824107Z"
    }
   },
   "outputs": [
    {
     "data": {
      "text/plain": [
       "1.0584383418668615"
      ]
     },
     "execution_count": 107,
     "metadata": {},
     "output_type": "execute_result"
    }
   ],
   "source": [
    "rts_preds_n2v = np.array([(k,v) for lst in item_ratings_predictions_node2vec for k,v in lst])\n",
    "results_n2v = pd.DataFrame(rts_preds_n2v, columns=['rating', 'preds'])\n",
    "results_n2v['preds'] = results_n2v['preds'].clip(upper=5)\n",
    "mean_squared_error(results_n2v['rating'], results_n2v['preds'], squared=False)"
   ]
  },
  {
   "cell_type": "code",
   "execution_count": null,
   "id": "c98b5a0d",
   "metadata": {},
   "outputs": [],
   "source": []
  }
 ],
 "metadata": {
  "kernelspec": {
   "display_name": "Python 3.9.13 ('myenv')",
   "language": "python",
   "name": "python3"
  },
  "language_info": {
   "codemirror_mode": {
    "name": "ipython",
    "version": 3
   },
   "file_extension": ".py",
   "mimetype": "text/x-python",
   "name": "python",
   "nbconvert_exporter": "python",
   "pygments_lexer": "ipython3",
   "version": "3.9.13"
  },
  "toc": {
   "base_numbering": 1,
   "nav_menu": {},
   "number_sections": true,
   "sideBar": true,
   "skip_h1_title": false,
   "title_cell": "Table of Contents",
   "title_sidebar": "Contents",
   "toc_cell": false,
   "toc_position": {},
   "toc_section_display": true,
   "toc_window_display": false
  },
  "varInspector": {
   "cols": {
    "lenName": 16,
    "lenType": 16,
    "lenVar": 40
   },
   "kernels_config": {
    "python": {
     "delete_cmd_postfix": "",
     "delete_cmd_prefix": "del ",
     "library": "var_list.py",
     "varRefreshCmd": "print(var_dic_list())"
    },
    "r": {
     "delete_cmd_postfix": ") ",
     "delete_cmd_prefix": "rm(",
     "library": "var_list.r",
     "varRefreshCmd": "cat(var_dic_list()) "
    }
   },
   "types_to_exclude": [
    "module",
    "function",
    "builtin_function_or_method",
    "instance",
    "_Feature"
   ],
   "window_display": false
  },
  "vscode": {
   "interpreter": {
    "hash": "42f1d4e423c80e78df698f1083de7c5b2542fad57b9e4a239ef9708b2fc1994b"
   }
  }
 },
 "nbformat": 4,
 "nbformat_minor": 5
}

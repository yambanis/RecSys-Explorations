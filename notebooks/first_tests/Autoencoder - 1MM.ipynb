{
 "cells": [
  {
   "cell_type": "code",
   "execution_count": 1,
   "id": "798b6d30",
   "metadata": {},
   "outputs": [],
   "source": [
    "import torch\n",
    "import pandas as pd\n",
    "import numpy as np\n",
    "from tqdm.auto import tqdm\n",
    "import matplotlib.pyplot as plt\n",
    "from sklearn.metrics import mean_squared_error\n",
    "from sklearn.preprocessing import StandardScaler\n",
    "from sklearn.model_selection import train_test_split"
   ]
  },
  {
   "cell_type": "code",
   "execution_count": 2,
   "id": "e27cfab1",
   "metadata": {},
   "outputs": [
    {
     "name": "stdout",
     "output_type": "stream",
     "text": [
      "movies.dat  ratings.dat  README  users.dat\r\n"
     ]
    }
   ],
   "source": [
    "!ls ../../data/ml-1m"
   ]
  },
  {
   "cell_type": "code",
   "execution_count": 3,
   "id": "fd118cd8",
   "metadata": {},
   "outputs": [],
   "source": [
    "rnames = ['user id', 'item id', 'rating', 'timestamp']\n",
    "ratings = pd.read_table('../../data/ml-1m/ratings.dat', sep='::',\n",
    " header=None, names=rnames, engine='python')"
   ]
  },
  {
   "cell_type": "code",
   "execution_count": 4,
   "id": "d0d78d98",
   "metadata": {},
   "outputs": [],
   "source": [
    "df_train, df_test = train_test_split(ratings, test_size=0.8, random_state=42)"
   ]
  },
  {
   "cell_type": "code",
   "execution_count": 5,
   "id": "8da77fe4",
   "metadata": {},
   "outputs": [
    {
     "data": {
      "text/plain": [
       "'cuda'"
      ]
     },
     "execution_count": 5,
     "metadata": {},
     "output_type": "execute_result"
    }
   ],
   "source": [
    "# Making the code device-agnostic\n",
    "device = 'cuda' if torch.cuda.is_available() else 'cpu'\n",
    "device"
   ]
  },
  {
   "cell_type": "code",
   "execution_count": 42,
   "id": "0ea537a2",
   "metadata": {},
   "outputs": [
    {
     "data": {
      "text/plain": [
       "torch.Size([6033, 3474])"
      ]
     },
     "execution_count": 42,
     "metadata": {},
     "output_type": "execute_result"
    }
   ],
   "source": [
    "user_movies_train = (\n",
    "    pd.pivot(data=df_train, index='user id', columns='item id', values='rating')\n",
    ")\n",
    "\n",
    "user_movies_train = (\n",
    "    user_movies_train\n",
    "     .drop(user_movies_train.index[(~user_movies_train.index.isin(df_test[\"user id\"].unique()))], axis=0)\n",
    ")\n",
    "train_mask_notna = torch.tensor(user_movies_train.notna().values)\n",
    "\n",
    "# creating tensor from user movies matrix\n",
    "scaler = StandardScaler().fit(user_movies_train)\n",
    "train_tensor = torch.tensor(scaler.transform(user_movies_train))\n",
    "#train_tensor = torch.tensor(user_movies_train.values)\n",
    "\n",
    "# DataLoader is used to load the dataset\n",
    "# for training\n",
    "train_loader = torch.utils.data.DataLoader(\n",
    "    dataset = list(zip(train_tensor, train_mask_notna)),\n",
    "    batch_size = 32,\n",
    "    shuffle = True\n",
    ")\n",
    "\n",
    "train_tensor.shape"
   ]
  },
  {
   "cell_type": "code",
   "execution_count": 43,
   "id": "505de556",
   "metadata": {},
   "outputs": [],
   "source": [
    "filled_train_tensor = torch.nan_to_num(train_tensor).float().to(device)"
   ]
  },
  {
   "cell_type": "code",
   "execution_count": 44,
   "id": "4ecc897c",
   "metadata": {},
   "outputs": [],
   "source": [
    "user_movies_test = (\n",
    "    pd.pivot(data=df_test, index='user id', columns='item id', values='rating')\n",
    ")"
   ]
  },
  {
   "cell_type": "code",
   "execution_count": 45,
   "id": "1dc66547",
   "metadata": {},
   "outputs": [
    {
     "data": {
      "text/plain": [
       "(31, 232)"
      ]
     },
     "execution_count": 45,
     "metadata": {},
     "output_type": "execute_result"
    }
   ],
   "source": [
    "cols_train_not_in_test = user_movies_train.columns[\n",
    "    ~user_movies_train.columns.isin(user_movies_test.columns)]\n",
    "\n",
    "cols_test_not_in_train = user_movies_test.columns[\n",
    "    ~user_movies_test.columns.isin(user_movies_train.columns)]\n",
    "\n",
    "extra_cols = pd.DataFrame(\n",
    "    index=user_movies_test.index,\n",
    "    columns=cols_train_not_in_test\n",
    ")\n",
    "\n",
    "len(cols_train_not_in_test), len(cols_test_not_in_train)"
   ]
  },
  {
   "cell_type": "code",
   "execution_count": 46,
   "id": "3dc50b24",
   "metadata": {},
   "outputs": [],
   "source": [
    "extra_user_movies_test = (\n",
    "    pd.concat([user_movies_test, extra_cols], axis=1)\n",
    "    .drop(cols_test_not_in_train, axis=1)\n",
    ")\n",
    "extra_user_movies_test = extra_user_movies_test.reindex(\n",
    "    sorted(extra_user_movies_test.columns), axis=1\n",
    ").drop(extra_user_movies_test.index[(~extra_user_movies_test.index.isin(user_movies_train.index))], axis=0)\n",
    "\n",
    "#extra_user_movies_test = scaler.transform(extra_user_movies_test)"
   ]
  },
  {
   "cell_type": "code",
   "execution_count": 47,
   "id": "f8293adc",
   "metadata": {},
   "outputs": [
    {
     "data": {
      "text/plain": [
       "(6033, 3474)"
      ]
     },
     "execution_count": 47,
     "metadata": {},
     "output_type": "execute_result"
    }
   ],
   "source": [
    "extra_user_movies_test.shape"
   ]
  },
  {
   "cell_type": "code",
   "execution_count": 93,
   "id": "bbca3d07",
   "metadata": {},
   "outputs": [],
   "source": [
    "test_mask = ~torch.tensor(extra_user_movies_test.values.astype(float)).isnan()\n",
    "test_ground_truth = torch.nan_to_num(torch.tensor(extra_user_movies_test.values.astype(float)))"
   ]
  },
  {
   "cell_type": "code",
   "execution_count": 49,
   "id": "0fb38bcd",
   "metadata": {},
   "outputs": [
    {
     "data": {
      "text/plain": [
       "3474"
      ]
     },
     "execution_count": 49,
     "metadata": {},
     "output_type": "execute_result"
    }
   ],
   "source": [
    "n_movies = train_tensor[0].shape[0]\n",
    "n_movies"
   ]
  },
  {
   "cell_type": "code",
   "execution_count": 239,
   "id": "e2630494",
   "metadata": {},
   "outputs": [],
   "source": [
    "# Creating a PyTorch class\n",
    "class AE(torch.nn.Module):\n",
    "    def __init__(self):\n",
    "        super().__init__()\n",
    "         \n",
    "        self.encoder = torch.nn.Sequential(\n",
    "            torch.nn.Linear(n_movies, 600),\n",
    "            torch.nn.ReLU(),\n",
    "            torch.nn.Linear(600, 200),\n",
    "            torch.nn.ReLU(),\n",
    "            torch.nn.Linear(200, 50),\n",
    "        )\n",
    "    \n",
    "    \n",
    "        self.decoder = torch.nn.Sequential(\n",
    "            torch.nn.ReLU(),\n",
    "            torch.nn.Linear(50, 200),\n",
    "            torch.nn.ReLU(),\n",
    "            torch.nn.Linear(200, 600),\n",
    "            torch.nn.ReLU(),\n",
    "            torch.nn.Linear(600, n_movies),\n",
    "        )\n",
    " \n",
    "    def forward(self, x):\n",
    "        encoded = self.encoder(x)\n",
    "        decoded = self.decoder(encoded)\n",
    "        return decoded"
   ]
  },
  {
   "cell_type": "code",
   "execution_count": 240,
   "id": "1ffbd0bc",
   "metadata": {},
   "outputs": [],
   "source": [
    "def corrupt_X(X, ratio=0.2):\n",
    "    return X * (np.random.random(size=batch_mask.shape) > ratio)"
   ]
  },
  {
   "cell_type": "code",
   "execution_count": 245,
   "id": "43b4a8ad",
   "metadata": {},
   "outputs": [
    {
     "data": {
      "application/vnd.jupyter.widget-view+json": {
       "model_id": "dd2ec852cbd24cb6a59844cca10bdf4c",
       "version_major": 2,
       "version_minor": 0
      },
      "text/plain": [
       "  0%|          | 0/5 [00:00<?, ?it/s]"
      ]
     },
     "metadata": {},
     "output_type": "display_data"
    }
   ],
   "source": [
    "# Validation using MSE Loss function\n",
    "loss_function = torch.nn.MSELoss()\n",
    "model = AE().to(device)\n",
    "epochs=5\n",
    "# Model Initialization\n",
    "optimizer = torch.optim.Adam(model.parameters(), \n",
    "                             lr = 1e-4,\n",
    "                             weight_decay = 0)\n",
    "epoch_loss_train = []\n",
    "epoch_loss_test = []\n",
    "for epoch in tqdm(range(epochs)):\n",
    "    train_loss = 0\n",
    "\n",
    "    ## TRAIN MODEL ##\n",
    "    # Put model in train mode\n",
    "    model.train()\n",
    "\n",
    "    # Loop through data loader data batches\n",
    "    for batch, (X, batch_mask) in enumerate(train_loader):\n",
    "        # Send data to target device\n",
    "        X = torch.nan_to_num(X.float())\n",
    "        batch_mask_flat = batch_mask.bool().flatten().to(device)\n",
    "        \n",
    "        ## Corrupting some of the Xs\n",
    "        X_corrupted = corrupt_X(X, ratio=0).to(device)\n",
    "        X = X.to(device)\n",
    "        \n",
    "        # 1. Forward pass\n",
    "        X_pred = model(X_corrupted).flatten()[batch_mask_flat]\n",
    "        # 2. Calculate  and accumulate loss\n",
    "        loss = loss_function(X_pred, X.flatten()[batch_mask_flat])\n",
    "        train_loss += loss.item()\n",
    "        # 3. Optimizer zero grad\n",
    "        optimizer.zero_grad()\n",
    "        # 4. Loss backward\n",
    "        loss.backward()\n",
    "        # 5. Optimizer step\n",
    "        optimizer.step()\n",
    "        \n",
    "    test_error = []\n",
    "    with torch.inference_mode():\n",
    "        preds = model(filled_train_tensor)\n",
    "        test_error = loss_function(\n",
    "           preds.flatten()[test_mask.flatten()].cpu(),\n",
    "           torch.tensor(scaler.transform(test_ground_truth.numpy()).flatten()[test_mask.flatten()])    \n",
    "        )\n",
    "        \n",
    "#         test_error = mean_squared_error(\n",
    "#             test_ground_truth.flatten()[test_mask.flatten()].numpy(),\n",
    "#             np.clip(scaler.inverse_transform(preds.cpu().numpy()).flatten()[test_mask.flatten()], 1, 5)\n",
    "#         )\n",
    "\n",
    "    epoch_loss_train += [train_loss / len(train_loader)]\n",
    "    epoch_loss_test += [test_error]"
   ]
  },
  {
   "cell_type": "code",
   "execution_count": 246,
   "id": "02e29aee",
   "metadata": {
    "scrolled": false
   },
   "outputs": [
    {
     "data": {
      "text/plain": [
       "<matplotlib.legend.Legend at 0x7f61fe453bb0>"
      ]
     },
     "execution_count": 246,
     "metadata": {},
     "output_type": "execute_result"
    },
    {
     "data": {
      "image/png": "[encoded data removed]",
      "text/plain": [
       "<Figure size 640x480 with 1 Axes>"
      ]
     },
     "metadata": {},
     "output_type": "display_data"
    }
   ],
   "source": [
    "# Defining the Plot Style\n",
    "plt.style.use('fivethirtyeight')\n",
    "plt.xlabel('Iterations')\n",
    "plt.ylabel('Loss')\n",
    " \n",
    "plt.plot(epoch_loss_train, label='Train')\n",
    "plt.plot(epoch_loss_test, label='Test')\n",
    "#plt.axvline(x=35, alpha=0.5, color='purple')\n",
    "plt.legend()\n"
   ]
  },
  {
   "cell_type": "code",
   "execution_count": 247,
   "id": "f5efde1c",
   "metadata": {},
   "outputs": [],
   "source": [
    "from sklearn.metrics import mean_squared_error"
   ]
  },
  {
   "cell_type": "code",
   "execution_count": 248,
   "id": "ae89111c",
   "metadata": {},
   "outputs": [
    {
     "data": {
      "text/plain": [
       "0.890707387633917"
      ]
     },
     "execution_count": 248,
     "metadata": {},
     "output_type": "execute_result"
    }
   ],
   "source": [
    "mean_squared_error(\n",
    "    test_ground_truth.flatten()[test_mask.flatten()].numpy(),\n",
    "    np.clip(scaler.inverse_transform(preds.cpu().numpy()).flatten()[test_mask.flatten()], 1, 5),\n",
    "    squared=True\n",
    ")"
   ]
  },
  {
   "cell_type": "code",
   "execution_count": 157,
   "id": "24bbef8f",
   "metadata": {},
   "outputs": [],
   "source": [
    "noise = torch.tensor(\n",
    "    np.array(\n",
    "        [np.random.normal(loc=0,\n",
    "                          scale=.2,\n",
    "                          size=X.shape[1]\n",
    "                          )\n",
    "          for i in range(X.shape[0])\n",
    "        ]\n",
    "    )\n",
    ").to(device)"
   ]
  },
  {
   "cell_type": "code",
   "execution_count": null,
   "id": "ef988d7c",
   "metadata": {},
   "outputs": [],
   "source": [
    "# Validation using MSE Loss function\n",
    "loss_function = torch.nn.MSELoss()\n",
    "epochs=500\n",
    "# Model Initialization\n",
    "model = AE().to(device)\n",
    "optimizer = torch.optim.Adam(model.parameters(), \n",
    "                             lr = 1e-4,\n",
    "                             weight_decay = 1e-8)\n",
    "\n",
    "epoch_loss_train = []\n",
    "epoch_loss_test = []\n",
    "for epoch in tqdm(range(epochs)):\n",
    "    train_loss = 0\n",
    "\n",
    "            ## TRAIN MODEL ##\n",
    "    # Put model in train mode\n",
    "    model.train()\n",
    "\n",
    "    # Loop through data loader data batches\n",
    "    for batch, (X) in enumerate(train_loader):\n",
    "        \n",
    "        # Send data to target device\n",
    "        X = X.float().to(device)\n",
    "        batch_mask = ~torch.isnan(X)\n",
    "        X = torch.nan_to_num(X)\n",
    "        noise = torch.tensor(np.array([np.random.normal(loc=0,\n",
    "                                                        scale=.2,\n",
    "                                                        size=X.shape[1])\n",
    "                  for i in range(X.shape[0])])).to(device)\n",
    "        X_noise = (X + noise).float().to(device) * batch_mask\n",
    "        # 1. Forward pass\n",
    "        X_pred = model(X_noise) * batch_mask\n",
    "        # 2. Calculate  and accumulate loss\n",
    "        loss = loss_function(X_pred, X)\n",
    "        train_loss += loss.item()\n",
    "        # 3. Optimizer zero grad\n",
    "        optimizer.zero_grad()\n",
    "        # 4. Loss backward\n",
    "        loss.backward()\n",
    "        # 5. Optimizer step\n",
    "        optimizer.step()\n",
    "        \n",
    "    test_error = []\n",
    "    with torch.inference_mode():\n",
    "        preds = model(filled_train_tensor)\n",
    "        preds = scaler.inverse_transform(preds.cpu()).flatten()\n",
    "        np.clip(preds, a_min=1, a_max=5, out=preds)\n",
    "        test_error += [mean_squared_error(preds[test_mask], \n",
    "                                          test_ground_truth[test_mask], squared=False)]\n",
    "\n",
    "    epoch_loss_train += [train_loss / len(train_loader)]\n",
    "    epoch_loss_test += [test_error]"
   ]
  },
  {
   "cell_type": "code",
   "execution_count": null,
   "id": "8b0494fa",
   "metadata": {},
   "outputs": [],
   "source": [
    "print(min(epoch_loss_test))"
   ]
  },
  {
   "cell_type": "code",
   "execution_count": null,
   "id": "60186f0c",
   "metadata": {},
   "outputs": [],
   "source": [
    "print(max(epoch_loss_test[-20:]))"
   ]
  },
  {
   "cell_type": "code",
   "execution_count": null,
   "id": "99ed4cc1",
   "metadata": {},
   "outputs": [],
   "source": [
    "# Defining the Plot Style\n",
    "plt.style.use('fivethirtyeight')\n",
    "plt.xlabel('Iterations')\n",
    "plt.ylabel('Loss')\n",
    " \n",
    "plt.plot(epoch_loss_train, label='Train')\n",
    "#plt.plot(epoch_loss_test, label='Test')\n",
    "plt.legend()\n"
   ]
  },
  {
   "cell_type": "code",
   "execution_count": null,
   "id": "642ec764",
   "metadata": {},
   "outputs": [],
   "source": [
    "# Defining the Plot Style\n",
    "plt.style.use('fivethirtyeight')\n",
    "plt.xlabel('Iterations')\n",
    "plt.ylabel('Loss')\n",
    " \n",
    "#plt.plot(epoch_loss_train, label='Train')\n",
    "plt.plot(epoch_loss_test, label='Test')\n",
    "plt.legend()\n"
   ]
  },
  {
   "cell_type": "code",
   "execution_count": null,
   "id": "f40c0049",
   "metadata": {},
   "outputs": [],
   "source": []
  }
 ],
 "metadata": {
  "kernelspec": {
   "display_name": "recsys",
   "language": "python",
   "name": "recsys"
  },
  "language_info": {
   "codemirror_mode": {
    "name": "ipython",
    "version": 3
   },
   "file_extension": ".py",
   "mimetype": "text/x-python",
   "name": "python",
   "nbconvert_exporter": "python",
   "pygments_lexer": "ipython3",
   "version": "3.9.13"
  }
 },
 "nbformat": 4,
 "nbformat_minor": 5
}

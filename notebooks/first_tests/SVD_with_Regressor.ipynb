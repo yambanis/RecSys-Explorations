{
 "cells": [
  {
   "cell_type": "code",
   "execution_count": 70,
   "metadata": {},
   "outputs": [],
   "source": [
    "import numpy as np\n",
    "import pandas as pd\n",
    "\n",
    "from sklearn.decomposition import TruncatedSVD\n",
    "from sklearn.ensemble import RandomForestRegressor\n",
    "from sklearn.metrics import mean_squared_error\n",
    "\n",
    "import seaborn as sns"
   ]
  },
  {
   "cell_type": "code",
   "execution_count": 51,
   "metadata": {},
   "outputs": [],
   "source": [
    "df_train = pd.read_csv(\"../../data/ml-100k/ub.base\", sep=\"\\t\", \n",
    "                 header=None, names=['user id', 'item id', 'rating', 'timestamp'])\n",
    "df_test = pd.read_csv(\"../../data/ml-100k/ub.test\", sep=\"\\t\", \n",
    "                 header=None, names=['user id', 'item id', 'rating', 'timestamp'])"
   ]
  },
  {
   "cell_type": "code",
   "execution_count": 52,
   "metadata": {},
   "outputs": [],
   "source": [
    "user_movies_train = (\n",
    "    pd.pivot(data=df_train, index='user id', columns='item id', values='rating')\n",
    ")\n",
    "\n",
    "# I subtract each user's average rating to magnify individual preferences\n",
    "# Replace NaN with 0.0, as this is now the \"neutral\" value\n",
    "\n",
    "train_matrix = user_movies_train.sub(user_movies_train.mean(axis=1), axis=0).fillna(0.0)"
   ]
  },
  {
   "cell_type": "code",
   "execution_count": 53,
   "metadata": {},
   "outputs": [],
   "source": [
    "user_movies_test = (\n",
    "    pd.pivot(data=df_test, index='user id', columns='item id', values='rating')\n",
    ")\n",
    "\n",
    "# I subtract each user's average rating to magnify individual preferences\n",
    "# Replace NaN with 0.0, as this is now the \"neutral\" value\n",
    "\n",
    "test_matrix = user_movies_test.sub(user_movies_train.mean(axis=1), axis=0).fillna(0.0)"
   ]
  },
  {
   "cell_type": "code",
   "execution_count": 54,
   "metadata": {},
   "outputs": [
    {
     "data": {
      "text/plain": [
       "0.8473552038559992"
      ]
     },
     "execution_count": 54,
     "metadata": {},
     "output_type": "execute_result"
    }
   ],
   "source": [
    "svd = TruncatedSVD(n_components=250, n_iter=1000, random_state=42)\n",
    "svd.fit(train_matrix)\n",
    "svd.explained_variance_ratio_.sum()"
   ]
  },
  {
   "cell_type": "code",
   "execution_count": 55,
   "metadata": {},
   "outputs": [
    {
     "data": {
      "text/plain": [
       "((943, 250), (250, 250), (250, 1675))"
      ]
     },
     "execution_count": 55,
     "metadata": {},
     "output_type": "execute_result"
    }
   ],
   "source": [
    "U = svd.transform(train_matrix) / svd.singular_values_\n",
    "Sigma_matrix = np.diag(svd.singular_values_)\n",
    "VT = svd.components_\n",
    "\n",
    "U.shape, Sigma_matrix.shape, VT.shape"
   ]
  },
  {
   "cell_type": "code",
   "execution_count": 56,
   "metadata": {},
   "outputs": [],
   "source": [
    "user_embeddings = pd.DataFrame(U).assign(**{\"user id\" : lambda x: train_matrix.index})\n",
    "movies_embeddings = pd.DataFrame(VT.T).assign(**{\"item id\" : lambda x: train_matrix.columns})"
   ]
  },
  {
   "cell_type": "code",
   "execution_count": 57,
   "metadata": {},
   "outputs": [
    {
     "data": {
      "text/plain": [
       "((90570, 500), (90570,))"
      ]
     },
     "execution_count": 57,
     "metadata": {},
     "output_type": "execute_result"
    }
   ],
   "source": [
    "train_set = df_train.merge(user_embeddings, on=\"user id\").merge(movies_embeddings, on=\"item id\")\n",
    "X_train = train_set.drop([\"user id\", \"item id\", \"rating\", \"timestamp\"], axis=1)\n",
    "y_train = train_set['rating']\n",
    "\n",
    "X_train.shape, y_train.shape"
   ]
  },
  {
   "cell_type": "code",
   "execution_count": 58,
   "metadata": {},
   "outputs": [],
   "source": [
    "rfr = RandomForestRegressor(min_samples_split=31, min_samples_leaf=10, n_jobs=-1).fit(X_train, y_train)"
   ]
  },
  {
   "cell_type": "code",
   "execution_count": 59,
   "metadata": {},
   "outputs": [],
   "source": [
    "train_preds = rfr.predict(X_train)"
   ]
  },
  {
   "cell_type": "code",
   "execution_count": 68,
   "metadata": {},
   "outputs": [
    {
     "data": {
      "text/plain": [
       "(1.0, 4.946122748124892)"
      ]
     },
     "execution_count": 68,
     "metadata": {},
     "output_type": "execute_result"
    }
   ],
   "source": [
    "train_preds.min(), train_preds.max()"
   ]
  },
  {
   "cell_type": "code",
   "execution_count": 60,
   "metadata": {},
   "outputs": [
    {
     "data": {
      "text/plain": [
       "0.6607674586401892"
      ]
     },
     "execution_count": 60,
     "metadata": {},
     "output_type": "execute_result"
    }
   ],
   "source": [
    "mean_squared_error(y_train, train_preds, squared=False)"
   ]
  },
  {
   "cell_type": "code",
   "execution_count": 61,
   "metadata": {},
   "outputs": [
    {
     "data": {
      "text/plain": [
       "((9423, 500), (9423,))"
      ]
     },
     "execution_count": 61,
     "metadata": {},
     "output_type": "execute_result"
    }
   ],
   "source": [
    "test_set = df_test.merge(user_embeddings, on=\"user id\").merge(movies_embeddings, on=\"item id\")\n",
    "X_test = test_set.drop([\"user id\", \"item id\", \"rating\", \"timestamp\"], axis=1)\n",
    "y_test = test_set['rating']\n",
    "\n",
    "X_test.shape, y_test.shape"
   ]
  },
  {
   "cell_type": "code",
   "execution_count": 62,
   "metadata": {},
   "outputs": [],
   "source": [
    "test_preds = rfr.predict(X_test)"
   ]
  },
  {
   "cell_type": "code",
   "execution_count": 67,
   "metadata": {},
   "outputs": [
    {
     "data": {
      "text/plain": [
       "(1.0599983664607955, 4.882478874905385)"
      ]
     },
     "execution_count": 67,
     "metadata": {},
     "output_type": "execute_result"
    }
   ],
   "source": [
    "test_preds.min(), test_preds.max()"
   ]
  },
  {
   "cell_type": "code",
   "execution_count": 63,
   "metadata": {},
   "outputs": [
    {
     "data": {
      "text/plain": [
       "0.9746124910980271"
      ]
     },
     "execution_count": 63,
     "metadata": {},
     "output_type": "execute_result"
    }
   ],
   "source": [
    "mean_squared_error(y_test, test_preds, squared=False)"
   ]
  },
  {
   "cell_type": "markdown",
   "metadata": {},
   "source": []
  },
  {
   "cell_type": "code",
   "execution_count": 78,
   "metadata": {},
   "outputs": [
    {
     "data": {
      "text/plain": [
       "<AxesSubplot: ylabel='rating'>"
      ]
     },
     "execution_count": 78,
     "metadata": {},
     "output_type": "execute_result"
    },
    {
     "data": {
      "image/png": "[encoded data removed]",
      "text/plain": [
       "<Figure size 640x480 with 1 Axes>"
      ]
     },
     "metadata": {},
     "output_type": "display_data"
    }
   ],
   "source": [
    "sns.scatterplot(x=test_preds.round(0), y=y_test, alpha=.1)"
   ]
  },
  {
   "cell_type": "code",
   "execution_count": null,
   "metadata": {},
   "outputs": [],
   "source": []
  }
 ],
 "metadata": {
  "kernelspec": {
   "display_name": "Python 3.9.13 ('myenv')",
   "language": "python",
   "name": "python3"
  },
  "language_info": {
   "codemirror_mode": {
    "name": "ipython",
    "version": 3
   },
   "file_extension": ".py",
   "mimetype": "text/x-python",
   "name": "python",
   "nbconvert_exporter": "python",
   "pygments_lexer": "ipython3",
   "version": "3.9.13"
  },
  "orig_nbformat": 4,
  "vscode": {
   "interpreter": {
    "hash": "42f1d4e423c80e78df698f1083de7c5b2542fad57b9e4a239ef9708b2fc1994b"
   }
  }
 },
 "nbformat": 4,
 "nbformat_minor": 2
}
